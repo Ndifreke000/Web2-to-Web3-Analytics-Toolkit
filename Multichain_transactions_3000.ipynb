{
  "nbformat": 4,
  "nbformat_minor": 0,
  "metadata": {
    "colab": {
      "provenance": [],
      "authorship_tag": "ABX9TyNnutb3POZhVbPvK0LuX7qR",
      "include_colab_link": true
    },
    "kernelspec": {
      "name": "python3",
      "display_name": "Python 3"
    },
    "language_info": {
      "name": "python"
    }
  },
  "cells": [
    {
      "cell_type": "markdown",
      "metadata": {
        "id": "view-in-github",
        "colab_type": "text"
      },
      "source": [
        "<a href=\"https://colab.research.google.com/github/Ndifreke000/Web2-to-Web3-Analytics-Toolkit/blob/main/Multichain_transactions_3000.ipynb\" target=\"_parent\"><img src=\"https://colab.research.google.com/assets/colab-badge.svg\" alt=\"Open In Colab\"/></a>"
      ]
    },
    {
      "cell_type": "code",
      "execution_count": 5,
      "metadata": {
        "id": "oODYRWuOGGCs"
      },
      "outputs": [],
      "source": [
        "# Import necessary modules\n",
        "import os\n",
        "import random\n",
        "import string\n",
        "import pandas as pd\n",
        "from datetime import datetime, timedelta\n",
        "\n",
        "# Define chains and their specific tokens and fee ranges\n",
        "chains = {\n",
        "    \"Ethereum\": {\"tokens\": [\"ETH\", \"USDT\", \"DAI\", \"USDC\", \"WBTC\"], \"fee_range\": (0.001, 0.01)},\n",
        "    \"Binance Smart Chain\": {\"tokens\": [\"BNB\", \"BUSD\", \"CAKE\", \"ETH\"], \"fee_range\": (0.0001, 0.001)},\n",
        "    \"Polygon\": {\"tokens\": [\"MATIC\", \"USDT\", \"USDC\", \"DAI\"], \"fee_range\": (0.00001, 0.0001)},\n",
        "    \"Starknet\": {\"tokens\": [\"ETH\", \"DAI\", \"USDT\", \"WBTC\"], \"fee_range\": (0.00005, 0.0005)},\n",
        "    \"Avalanche\": {\"tokens\": [\"AVAX\", \"USDT\", \"USDC\", \"DAI\"], \"fee_range\": (0.0001, 0.001)},\n",
        "    \"Solana\": {\"tokens\": [\"SOL\", \"USDT\", \"USDC\"], \"fee_range\": (0.00001, 0.0001)}\n",
        "}\n",
        "\n",
        "# Transaction purposes\n",
        "purposes = [\"transfer\", \"swap\", \"stake\", \"yield_farming\", \"liquidity_provision\"]\n",
        "\n",
        "# Transaction statuses\n",
        "statuses = [\"success\", \"failed\", \"pending\"]\n",
        "\n",
        "# Function to generate a random Ethereum-like address\n",
        "def generate_random_address():\n",
        "    return \"0x\" + ''.join(random.choices(string.hexdigits.lower(), k=40))\n",
        "\n",
        "# Function to generate random transaction ID\n",
        "def generate_random_transaction_id():\n",
        "    return \"0x\" + ''.join(random.choices(string.hexdigits.lower(), k=64))\n",
        "\n",
        "# Function to generate a random timestamp within a given range\n",
        "def generate_random_timestamp(start_date, end_date):\n",
        "    delta = end_date - start_date\n",
        "    random_minutes = random.randint(0, int(delta.total_seconds() // 60))\n",
        "    random_timestamp = start_date + timedelta(minutes=random_minutes)\n",
        "    return random_timestamp.strftime(\"%Y-%m-%dT%H:%M:%SZ\")\n",
        "\n",
        "# Function to generate random fee within a range\n",
        "def generate_random_fee(fee_range):\n",
        "    return round(random.uniform(fee_range[0], fee_range[1]), 8)\n",
        "\n",
        "# Generate 3000 rows of random data\n",
        "data = []\n",
        "total_transactions = 3000\n",
        "start_date = datetime(2025, 1, 1, 0, 0, 0)\n",
        "end_date = datetime(2025, 1, 31, 23, 59, 59)\n",
        "\n",
        "for _ in range(total_transactions):\n",
        "    # Randomly select a chain and its details\n",
        "    chain = random.choice(list(chains.keys()))\n",
        "    chain_details = chains[chain]\n",
        "    token = random.choice(chain_details[\"tokens\"])\n",
        "    fee = generate_random_fee(chain_details[\"fee_range\"])\n",
        "\n",
        "    transaction_id = generate_random_transaction_id()\n",
        "    timestamp = generate_random_timestamp(start_date, end_date)\n",
        "    from_address = generate_random_address()\n",
        "    to_address = generate_random_address()\n",
        "    amount = round(random.uniform(10, 1000), 2)  # Random amount between 10 and 1000\n",
        "    purpose = random.choice(purposes)\n",
        "    status = random.choice(statuses)\n",
        "\n",
        "    data.append({\n",
        "        \"chain\": chain,\n",
        "        \"transaction_id\": transaction_id,\n",
        "        \"timestamp\": timestamp,\n",
        "        \"from_address\": from_address,\n",
        "        \"to_address\": to_address,\n",
        "        \"amount\": amount,\n",
        "        \"token\": token,\n",
        "        \"transaction_fee\": fee,\n",
        "        \"purpose\": purpose,\n",
        "        \"status\": status\n",
        "    })\n",
        "\n",
        "# Create a DataFrame\n",
        "df_multichain = pd.DataFrame(data)\n",
        "\n",
        "# Save the DataFrame as a CSV\n",
        "file_path = '/mnt/data/multichain_transactions_3000.csv'\n",
        "\n",
        "# Create the directory if it doesn't exist\n",
        "os.makedirs(os.path.dirname(file_path), exist_ok=True)\n",
        "\n",
        "df_multichain.to_csv(file_path, index=False)"
      ]
    },
    {
      "cell_type": "code",
      "source": [
        "from google.colab import files\n",
        "files.download(\"multichain_transactions_3000.csv\")"
      ],
      "metadata": {
        "colab": {
          "base_uri": "https://localhost:8080/",
          "height": 17
        },
        "id": "9LRqhKnZKv32",
        "outputId": "cf6c05c2-00fd-4d02-b0e0-d0097901fa23"
      },
      "execution_count": 20,
      "outputs": [
        {
          "output_type": "display_data",
          "data": {
            "text/plain": [
              "<IPython.core.display.Javascript object>"
            ],
            "application/javascript": [
              "\n",
              "    async function download(id, filename, size) {\n",
              "      if (!google.colab.kernel.accessAllowed) {\n",
              "        return;\n",
              "      }\n",
              "      const div = document.createElement('div');\n",
              "      const label = document.createElement('label');\n",
              "      label.textContent = `Downloading \"${filename}\": `;\n",
              "      div.appendChild(label);\n",
              "      const progress = document.createElement('progress');\n",
              "      progress.max = size;\n",
              "      div.appendChild(progress);\n",
              "      document.body.appendChild(div);\n",
              "\n",
              "      const buffers = [];\n",
              "      let downloaded = 0;\n",
              "\n",
              "      const channel = await google.colab.kernel.comms.open(id);\n",
              "      // Send a message to notify the kernel that we're ready.\n",
              "      channel.send({})\n",
              "\n",
              "      for await (const message of channel.messages) {\n",
              "        // Send a message to notify the kernel that we're ready.\n",
              "        channel.send({})\n",
              "        if (message.buffers) {\n",
              "          for (const buffer of message.buffers) {\n",
              "            buffers.push(buffer);\n",
              "            downloaded += buffer.byteLength;\n",
              "            progress.value = downloaded;\n",
              "          }\n",
              "        }\n",
              "      }\n",
              "      const blob = new Blob(buffers, {type: 'application/binary'});\n",
              "      const a = document.createElement('a');\n",
              "      a.href = window.URL.createObjectURL(blob);\n",
              "      a.download = filename;\n",
              "      div.appendChild(a);\n",
              "      a.click();\n",
              "      div.remove();\n",
              "    }\n",
              "  "
            ]
          },
          "metadata": {}
        },
        {
          "output_type": "display_data",
          "data": {
            "text/plain": [
              "<IPython.core.display.Javascript object>"
            ],
            "application/javascript": [
              "download(\"download_ca7746a9-ec1d-4415-b254-9d2d6e088247\", \"multichain_transactions_3000.csv\", 674967)"
            ]
          },
          "metadata": {}
        }
      ]
    },
    {
      "cell_type": "code",
      "source": [
        "print(df_multichain.head())  # View the first 5 rows of the dataset"
      ],
      "metadata": {
        "colab": {
          "base_uri": "https://localhost:8080/"
        },
        "id": "JM_BF-kJIUAY",
        "outputId": "8c720cef-768b-4ed8-92c7-072c3f2d2985"
      },
      "execution_count": 7,
      "outputs": [
        {
          "output_type": "stream",
          "name": "stdout",
          "text": [
            "       chain                                     transaction_id  \\\n",
            "0   Ethereum  0xa5ccaeebc19c0f020c3ea2137fcbc1aca7efa8ad1a8c...   \n",
            "1     Solana  0xfa2b3a4df9f7acfc8b8e7c12a07ecae8f9dad11a6acb...   \n",
            "2     Solana  0xa196571f0890da08683c8345acac2e9ea306f2e0f9f5...   \n",
            "3   Ethereum  0xec33d29cd3b3893c4f1039a6456b8f06fbf1fbf3e5aa...   \n",
            "4  Avalanche  0x3baf0efae3cc8e20bd9bef9fbbddb5f2dabe2cadf0f9...   \n",
            "\n",
            "              timestamp                                from_address  \\\n",
            "0  2025-01-24T07:35:00Z  0x2ca06c9c0c2ae04fae993cc6e0f11fbf15ffddbc   \n",
            "1  2025-01-23T10:47:00Z  0xfa7cc3e14e7ae1b532deeacbdb3bcbcff20cedaa   \n",
            "2  2025-01-19T04:37:00Z  0xda17d9dd3cf0b5cad05e291166dfb1bf72b8766a   \n",
            "3  2025-01-13T10:28:00Z  0xecdef5adeefb580b6deea0adaff5c4c2d0f569f8   \n",
            "4  2025-01-22T03:56:00Z  0x6560b87a51b9ad83a490cdf1cc8b7045a3b7f71c   \n",
            "\n",
            "                                   to_address  amount token  transaction_fee  \\\n",
            "0  0xbfa30f910cb4a9a84869ddf5eef96cedb68cffaf  856.43   ETH         0.002778   \n",
            "1  0xc9b9a082ef1bccaefc34ad00baeecf7834b2d9ea  225.78   SOL         0.000041   \n",
            "2  0xfe1eb01d691dd7cca49ea1efb2eb984fbebc243b  360.03  USDT         0.000035   \n",
            "3  0xd7c4fe9cdbcaea34c8f0113e3fdbca9b3d848d14  957.93   DAI         0.004571   \n",
            "4  0xb848cddaf7bfde1aa3f270a55be2fe4d433806ee  933.08  USDC         0.000869   \n",
            "\n",
            "               purpose   status  \n",
            "0             transfer  success  \n",
            "1                stake  success  \n",
            "2                 swap  success  \n",
            "3                stake  success  \n",
            "4  liquidity_provision   failed  \n"
          ]
        }
      ]
    },
    {
      "cell_type": "code",
      "source": [
        "print(df_multichain.tail())  # View the last 5 rows of the dataset"
      ],
      "metadata": {
        "colab": {
          "base_uri": "https://localhost:8080/"
        },
        "id": "_n61ixXAHWmt",
        "outputId": "6c4f76ab-03d9-4b70-bddf-1b31e9064859"
      },
      "execution_count": 9,
      "outputs": [
        {
          "output_type": "stream",
          "name": "stdout",
          "text": [
            "          chain                                     transaction_id  \\\n",
            "2995  Avalanche  0x3c37edf528c7a8ace9008ab9ca82fba0cb4fde90bf1c...   \n",
            "2996  Avalanche  0xc876cbf21f6c41cf8ddb4baac10b7a6cbf1f26cbbd83...   \n",
            "2997  Avalanche  0x92a3c5eccfd8a2cbaec997682acdd8e7edd2ec9aaa47...   \n",
            "2998    Polygon  0xc27c66f36d9d7134ca5fda317c16f0bc43f6394b5dbe...   \n",
            "2999   Starknet  0xcac4a1fbbad2b0a7750dd1e6a5cb803abce2de40ff70...   \n",
            "\n",
            "                 timestamp                                from_address  \\\n",
            "2995  2025-01-11T04:43:00Z  0x3bf771b045dbc0effd0d11994dd71ecc4e02a5ee   \n",
            "2996  2025-01-30T01:25:00Z  0x81fd7cdbead39de2edebc39e043cdffebdcebb78   \n",
            "2997  2025-01-24T11:57:00Z  0xc2b295c3c7eaaef8cbaf8a110efa8e6bb893e0ab   \n",
            "2998  2025-01-23T17:21:00Z  0xb3140413c7afe4afbe258bf0611c7ade5ebcd4eb   \n",
            "2999  2025-01-22T04:08:00Z  0xd9ffd5962cf2bc83cc5bde8bc8aa26dacd0bebb0   \n",
            "\n",
            "                                      to_address  amount token  \\\n",
            "2995  0x2e009bfe59ecdeceaeb245ea47dcfacd894d3dd7  189.32  USDT   \n",
            "2996  0x0d89f251bfde5fb70dba445556712c1fc2defcae  964.37   DAI   \n",
            "2997  0xdff4270e8b441fdebf3b4bb329e038f0d8bdb30d   11.85  USDC   \n",
            "2998  0xfdaa78775a8772bca48b87f3c839bafb16188f68   15.02  USDC   \n",
            "2999  0xb4c49f8d1b23236cc6ec0fff1f7f29a36a2ae75f  165.91  WBTC   \n",
            "\n",
            "      transaction_fee        purpose   status  \n",
            "2995         0.000375       transfer   failed  \n",
            "2996         0.000229       transfer   failed  \n",
            "2997         0.000988  yield_farming  pending  \n",
            "2998         0.000074  yield_farming  success  \n",
            "2999         0.000332  yield_farming  pending  \n"
          ]
        }
      ]
    },
    {
      "cell_type": "code",
      "source": [
        "print(df_multichain.info())  # Summary of the dataset\n",
        "print(df_multichain.describe())  # Statistical summary\n",
        "print(df_multichain[\"chain\"].value_counts())  # Distribution of chains"
      ],
      "metadata": {
        "colab": {
          "base_uri": "https://localhost:8080/"
        },
        "id": "9PMxqIPlIr6Z",
        "outputId": "f5d4cfe3-0e44-4097-b383-e033703b91b7"
      },
      "execution_count": 11,
      "outputs": [
        {
          "output_type": "stream",
          "name": "stdout",
          "text": [
            "<class 'pandas.core.frame.DataFrame'>\n",
            "RangeIndex: 3000 entries, 0 to 2999\n",
            "Data columns (total 10 columns):\n",
            " #   Column           Non-Null Count  Dtype  \n",
            "---  ------           --------------  -----  \n",
            " 0   chain            3000 non-null   object \n",
            " 1   transaction_id   3000 non-null   object \n",
            " 2   timestamp        3000 non-null   object \n",
            " 3   from_address     3000 non-null   object \n",
            " 4   to_address       3000 non-null   object \n",
            " 5   amount           3000 non-null   float64\n",
            " 6   token            3000 non-null   object \n",
            " 7   transaction_fee  3000 non-null   float64\n",
            " 8   purpose          3000 non-null   object \n",
            " 9   status           3000 non-null   object \n",
            "dtypes: float64(2), object(8)\n",
            "memory usage: 234.5+ KB\n",
            "None\n",
            "            amount  transaction_fee\n",
            "count  3000.000000      3000.000000\n",
            "mean    506.017470         0.001139\n",
            "std     288.829687         0.002208\n",
            "min      10.920000         0.000010\n",
            "25%     256.785000         0.000073\n",
            "50%     499.750000         0.000283\n",
            "75%     761.645000         0.000771\n",
            "max     999.830000         0.009985\n",
            "chain\n",
            "Avalanche              510\n",
            "Polygon                508\n",
            "Starknet               503\n",
            "Solana                 500\n",
            "Binance Smart Chain    498\n",
            "Ethereum               481\n",
            "Name: count, dtype: int64\n"
          ]
        }
      ]
    },
    {
      "cell_type": "code",
      "source": [
        "import matplotlib.pyplot as plt\n",
        "df_multichain[\"chain\"].value_counts().plot(kind='bar')\n",
        "plt.show()"
      ],
      "metadata": {
        "colab": {
          "base_uri": "https://localhost:8080/",
          "height": 582
        },
        "id": "GAri-GagI6hw",
        "outputId": "0029a6cc-9fc9-465d-8e05-c9d84b012bdc"
      },
      "execution_count": 12,
      "outputs": [
        {
          "output_type": "display_data",
          "data": {
            "text/plain": [
              "<Figure size 640x480 with 1 Axes>"
            ],
            "image/png": "[encoded data removed]"
          },
          "metadata": {}
        }
      ]
    },
    {
      "cell_type": "code",
      "source": [
        "import pandas as pd\n",
        "import numpy as np\n",
        "from sklearn.model_selection import train_test_split\n",
        "from sklearn.ensemble import RandomForestClassifier\n",
        "from sklearn.linear_model import LogisticRegression\n",
        "from sklearn.cluster import KMeans\n",
        "from sklearn.metrics import classification_report, accuracy_score\n",
        "from tensorflow.keras.models import Sequential\n",
        "from tensorflow.keras.layers import Dense\n",
        "from sklearn.preprocessing import StandardScaler, LabelEncoder\n",
        "\n",
        "# Load the dataset\n",
        "data_path = \"multichain_transactions_3000.csv\"\n",
        "df = pd.read_csv(data_path)\n",
        "\n",
        "# Preprocessing\n",
        "# Convert categorical features into numerical values\n",
        "label_encoders = {}\n",
        "for column in ['chain', 'token', 'purpose', 'status']:\n",
        "    le = LabelEncoder()\n",
        "    df[column] = le.fit_transform(df[column])\n",
        "    label_encoders[column] = le\n",
        "\n",
        "# Separate features and target\n",
        "X = df.drop(['transaction_id', 'timestamp', 'from_address', 'to_address', 'status'], axis=1)\n",
        "y = df['status']\n",
        "\n",
        "# Normalize numerical features\n",
        "scaler = StandardScaler()\n",
        "X[['amount', 'transaction_fee']] = scaler.fit_transform(X[['amount', 'transaction_fee']])\n",
        "\n",
        "# Split the dataset into training and testing sets\n",
        "X_train, X_test, y_train, y_test = train_test_split(X, y, test_size=0.3, random_state=42)"
      ],
      "metadata": {
        "id": "x7yAGdaYJc_S"
      },
      "execution_count": 14,
      "outputs": []
    },
    {
      "cell_type": "code",
      "source": [
        "# 1. Random Forest\n",
        "print(\"\\n--- Random Forest ---\")\n",
        "rf_model = RandomForestClassifier(n_estimators=100, random_state=42)\n",
        "rf_model.fit(X_train, y_train)\n",
        "rf_predictions = rf_model.predict(X_test)\n",
        "print(\"Accuracy:\", accuracy_score(y_test, rf_predictions))\n",
        "print(classification_report(y_test, rf_predictions))"
      ],
      "metadata": {
        "colab": {
          "base_uri": "https://localhost:8080/"
        },
        "id": "bzdtHSpsJwc_",
        "outputId": "4e27c272-ca57-4a19-b22c-d1a513151450"
      },
      "execution_count": 15,
      "outputs": [
        {
          "output_type": "stream",
          "name": "stdout",
          "text": [
            "\n",
            "--- Random Forest ---\n",
            "Accuracy: 0.33\n",
            "              precision    recall  f1-score   support\n",
            "\n",
            "           0       0.34      0.35      0.35       301\n",
            "           1       0.35      0.33      0.34       313\n",
            "           2       0.29      0.31      0.30       286\n",
            "\n",
            "    accuracy                           0.33       900\n",
            "   macro avg       0.33      0.33      0.33       900\n",
            "weighted avg       0.33      0.33      0.33       900\n",
            "\n"
          ]
        }
      ]
    },
    {
      "cell_type": "code",
      "source": [
        "# 2. Logistic Regression\n",
        "print(\"\\n--- Logistic Regression ---\")\n",
        "lr_model = LogisticRegression(max_iter=500, random_state=42)\n",
        "lr_model.fit(X_train, y_train)\n",
        "lr_predictions = lr_model.predict(X_test)\n",
        "print(\"Accuracy:\", accuracy_score(y_test, lr_predictions))\n",
        "print(classification_report(y_test, lr_predictions))"
      ],
      "metadata": {
        "colab": {
          "base_uri": "https://localhost:8080/"
        },
        "id": "SVsZcNZ5J4at",
        "outputId": "22834124-6eee-4398-8a81-9e8ec7035b50"
      },
      "execution_count": 16,
      "outputs": [
        {
          "output_type": "stream",
          "name": "stdout",
          "text": [
            "\n",
            "--- Logistic Regression ---\n",
            "Accuracy: 0.3611111111111111\n",
            "              precision    recall  f1-score   support\n",
            "\n",
            "           0       0.37      0.48      0.41       301\n",
            "           1       0.41      0.19      0.25       313\n",
            "           2       0.34      0.43      0.38       286\n",
            "\n",
            "    accuracy                           0.36       900\n",
            "   macro avg       0.37      0.36      0.35       900\n",
            "weighted avg       0.37      0.36      0.35       900\n",
            "\n"
          ]
        }
      ]
    },
    {
      "cell_type": "code",
      "source": [
        "# 3. K-Means Clustering\n",
        "print(\"\\n--- K-Means Clustering ---\")\n",
        "kmeans = KMeans(n_clusters=3, random_state=42)\n",
        "kmeans.fit(X)\n",
        "df['cluster'] = kmeans.labels_\n",
        "print(\"Cluster Centers:\\n\", kmeans.cluster_centers_)\n",
        "print(\"Cluster Assignments:\\n\", df['cluster'].value_counts())"
      ],
      "metadata": {
        "colab": {
          "base_uri": "https://localhost:8080/"
        },
        "id": "tlbyFeCCJ8oY",
        "outputId": "9cc4df00-84d5-42a8-d81d-086f32a12b31"
      },
      "execution_count": 17,
      "outputs": [
        {
          "output_type": "stream",
          "name": "stdout",
          "text": [
            "\n",
            "--- K-Means Clustering ---\n",
            "Cluster Centers:\n",
            " [[ 3.00361011e+00  8.12869091e-04  4.68712395e+00  1.80847418e-01\n",
            "   1.97352587e+00]\n",
            " [ 3.01583113e+00  1.68656135e-02  8.60620053e+00  1.63939027e-02\n",
            "   2.01846966e+00]\n",
            " [ 6.15620214e-01 -4.01895319e-02  2.02297090e+00 -2.68204227e-01\n",
            "   1.98315467e+00]]\n",
            "Cluster Assignments:\n",
            " cluster\n",
            "1    1516\n",
            "0     831\n",
            "2     653\n",
            "Name: count, dtype: int64\n"
          ]
        }
      ]
    },
    {
      "cell_type": "code",
      "source": [
        "# 4. Artificial Neural Networks (ANN)\n",
        "print(\"\\n--- Artificial Neural Networks ---\")\n",
        "ann_model = Sequential([\n",
        "    Dense(32, activation='relu', input_dim=X_train.shape[1]),\n",
        "    Dense(16, activation='relu'),\n",
        "    Dense(1, activation='sigmoid')\n",
        "])\n"
      ],
      "metadata": {
        "colab": {
          "base_uri": "https://localhost:8080/"
        },
        "id": "7ifGFmTOKAgO",
        "outputId": "21822142-89e1-4003-dc07-ba430ad72594"
      },
      "execution_count": 18,
      "outputs": [
        {
          "output_type": "stream",
          "name": "stdout",
          "text": [
            "\n",
            "--- Artificial Neural Networks ---\n"
          ]
        },
        {
          "output_type": "stream",
          "name": "stderr",
          "text": [
            "/usr/local/lib/python3.10/dist-packages/keras/src/layers/core/dense.py:87: UserWarning: Do not pass an `input_shape`/`input_dim` argument to a layer. When using Sequential models, prefer using an `Input(shape)` object as the first layer in the model instead.\n",
            "  super().__init__(activity_regularizer=activity_regularizer, **kwargs)\n"
          ]
        }
      ]
    },
    {
      "cell_type": "code",
      "source": [
        "ann_model.compile(optimizer='adam', loss='binary_crossentropy', metrics=['accuracy'])\n",
        "\n",
        "# Fit the ANN model\n",
        "ann_model.fit(X_train, y_train, epochs=10, batch_size=32, validation_split=0.2)\n",
        "\n",
        "# Evaluate the ANN model\n",
        "ann_loss, ann_accuracy = ann_model.evaluate(X_test, y_test)\n",
        "print(f\"ANN Accuracy: {ann_accuracy:.2f}\")\n",
        "\n",
        "# Save the preprocessed dataset for further exploration\n",
        "df.to_csv(\"preprocessed_multichain_dataset.csv\", index=False)\n",
        "print(\"Preprocessed dataset saved as 'preprocessed_multichain_dataset.csv'.\")"
      ],
      "metadata": {
        "colab": {
          "base_uri": "https://localhost:8080/"
        },
        "id": "19j_go3jKDaj",
        "outputId": "afa2e36e-1b47-44e0-dc48-0ea1e2931ebe"
      },
      "execution_count": 19,
      "outputs": [
        {
          "output_type": "stream",
          "name": "stdout",
          "text": [
            "Epoch 1/10\n",
            "\u001b[1m53/53\u001b[0m \u001b[32m━━━━━━━━━━━━━━━━━━━━\u001b[0m\u001b[37m\u001b[0m \u001b[1m1s\u001b[0m 5ms/step - accuracy: 0.3357 - loss: 0.5111 - val_accuracy: 0.3333 - val_loss: 0.0326\n",
            "Epoch 2/10\n",
            "\u001b[1m53/53\u001b[0m \u001b[32m━━━━━━━━━━━━━━━━━━━━\u001b[0m\u001b[37m\u001b[0m \u001b[1m1s\u001b[0m 5ms/step - accuracy: 0.3488 - loss: 0.2367 - val_accuracy: 0.3333 - val_loss: -0.0901\n",
            "Epoch 3/10\n",
            "\u001b[1m53/53\u001b[0m \u001b[32m━━━━━━━━━━━━━━━━━━━━\u001b[0m\u001b[37m\u001b[0m \u001b[1m0s\u001b[0m 8ms/step - accuracy: 0.3435 - loss: 0.0933 - val_accuracy: 0.3333 - val_loss: -0.1838\n",
            "Epoch 4/10\n",
            "\u001b[1m53/53\u001b[0m \u001b[32m━━━━━━━━━━━━━━━━━━━━\u001b[0m\u001b[37m\u001b[0m \u001b[1m0s\u001b[0m 5ms/step - accuracy: 0.3200 - loss: 0.1342 - val_accuracy: 0.3333 - val_loss: -0.1880\n",
            "Epoch 5/10\n",
            "\u001b[1m53/53\u001b[0m \u001b[32m━━━━━━━━━━━━━━━━━━━━\u001b[0m\u001b[37m\u001b[0m \u001b[1m0s\u001b[0m 6ms/step - accuracy: 0.3220 - loss: 0.2264 - val_accuracy: 0.3333 - val_loss: -0.2259\n",
            "Epoch 6/10\n",
            "\u001b[1m53/53\u001b[0m \u001b[32m━━━━━━━━━━━━━━━━━━━━\u001b[0m\u001b[37m\u001b[0m \u001b[1m1s\u001b[0m 5ms/step - accuracy: 0.3153 - loss: -0.0184 - val_accuracy: 0.3333 - val_loss: -0.2549\n",
            "Epoch 7/10\n",
            "\u001b[1m53/53\u001b[0m \u001b[32m━━━━━━━━━━━━━━━━━━━━\u001b[0m\u001b[37m\u001b[0m \u001b[1m0s\u001b[0m 4ms/step - accuracy: 0.3203 - loss: -0.1824 - val_accuracy: 0.3333 - val_loss: -0.2416\n",
            "Epoch 8/10\n",
            "\u001b[1m53/53\u001b[0m \u001b[32m━━━━━━━━━━━━━━━━━━━━\u001b[0m\u001b[37m\u001b[0m \u001b[1m0s\u001b[0m 5ms/step - accuracy: 0.3286 - loss: 0.0569 - val_accuracy: 0.3333 - val_loss: -0.2534\n",
            "Epoch 9/10\n",
            "\u001b[1m53/53\u001b[0m \u001b[32m━━━━━━━━━━━━━━━━━━━━\u001b[0m\u001b[37m\u001b[0m \u001b[1m1s\u001b[0m 10ms/step - accuracy: 0.3188 - loss: 0.0731 - val_accuracy: 0.3333 - val_loss: -0.2513\n",
            "Epoch 10/10\n",
            "\u001b[1m53/53\u001b[0m \u001b[32m━━━━━━━━━━━━━━━━━━━━\u001b[0m\u001b[37m\u001b[0m \u001b[1m0s\u001b[0m 2ms/step - accuracy: 0.3373 - loss: 0.0148 - val_accuracy: 0.3333 - val_loss: -0.2740\n",
            "\u001b[1m29/29\u001b[0m \u001b[32m━━━━━━━━━━━━━━━━━━━━\u001b[0m\u001b[37m\u001b[0m \u001b[1m0s\u001b[0m 1ms/step - accuracy: 0.3661 - loss: -0.0233\n",
            "ANN Accuracy: 0.35\n",
            "Preprocessed dataset saved as 'preprocessed_multichain_dataset.csv'.\n"
          ]
        }
      ]
    }
  ]
}